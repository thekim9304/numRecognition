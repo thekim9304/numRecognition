{
 "cells": [
  {
   "cell_type": "code",
   "execution_count": 2,
   "metadata": {
    "scrolled": true
   },
   "outputs": [
    {
     "name": "stderr",
     "output_type": "stream",
     "text": [
      "WARNING: Logging before flag parsing goes to stderr.\n",
      "W0301 15:14:29.333953 175180 deprecation.py:323] From C:\\Users\\th_k9\\AppData\\Local\\Continuum\\anaconda3\\envs\\tf20\\lib\\site-packages\\tensorflow\\python\\ops\\math_grad.py:1250: add_dispatch_support.<locals>.wrapper (from tensorflow.python.ops.array_ops) is deprecated and will be removed in a future version.\n",
      "Instructions for updating:\n",
      "Use tf.where in 2.0, which has the same broadcast rule as np.where\n"
     ]
    }
   ],
   "source": [
    "from tensorflow.keras.models import load_model\n",
    "\n",
    "import numpy as np\n",
    "import cv2\n",
    "import glob\n",
    "\n",
    "from numberRecognition import num_recognition\n",
    "\n",
    "models = []\n",
    "models.append(load_model('./models/model1.h5'))\n",
    "models.append(load_model('./models/model2.h5'))\n",
    "models.append(load_model('./models/model3.h5'))\n",
    "\n",
    "img_path = glob.glob('./data/*.*')\n",
    "\n",
    "imgs = []\n",
    "for i in range(len(img_path)):\n",
    "    img = cv2.imread(img_path[i])\n",
    "    \n",
    "    imgs.append(img)\n",
    "    \n",
    "imgs = np.array(imgs)\n",
    "#####################################################################"
   ]
  },
  {
   "cell_type": "code",
   "execution_count": 3,
   "metadata": {},
   "outputs": [
    {
     "data": {
      "text/plain": [
       "(2, 480, 640, 3)"
      ]
     },
     "execution_count": 3,
     "metadata": {},
     "output_type": "execute_result"
    }
   ],
   "source": [
    "imgs.shape"
   ]
  },
  {
   "cell_type": "code",
   "execution_count": 4,
   "metadata": {},
   "outputs": [
    {
     "name": "stdout",
     "output_type": "stream",
     "text": [
      "1429   1032\n",
      "1429   1027\n",
      "done!\n"
     ]
    }
   ],
   "source": [
    "for img_n in range(imgs.shape[0]):\n",
    "    t_num_string, b_num_string, t_coordi, b_coordi = num_recognition(imgs[img_n], models)\n",
    "\n",
    "    draw_img = imgs[img_n].copy()\n",
    "\n",
    "    for i in range(len(b_coordi)):\n",
    "        cv2.rectangle(draw_img, (t_coordi[0][0], t_coordi[0][1]), (t_coordi[3][2], t_coordi[3][3]), (0, 255, 255), 2)\n",
    "        cv2.putText(draw_img, t_num_string, (t_coordi[0][0], t_coordi[0][1]), cv2.FONT_HERSHEY_SIMPLEX, 1.2, (0, 255, 255), 2, cv2.LINE_AA)\n",
    "        cv2.rectangle(draw_img, (b_coordi[0][0], b_coordi[0][1]), (b_coordi[3][2], b_coordi[3][3]), (0, 255, 255), 2)\n",
    "        cv2.putText(draw_img, b_num_string, (b_coordi[0][0], b_coordi[0][1]), cv2.FONT_HERSHEY_SIMPLEX, 1.2, (0, 255, 255), 2, cv2.LINE_AA)\n",
    "    \n",
    "    print(t_num_string, ' ', b_num_string)\n",
    "    \n",
    "    write_n = './result/' + str(img_n) + '.jpg'\n",
    "    cv2.imwrite(write_n, draw_img)\n",
    "    \n",
    "print('done!')"
   ]
  },
  {
   "cell_type": "code",
   "execution_count": 10,
   "metadata": {},
   "outputs": [],
   "source": []
  },
  {
   "cell_type": "code",
   "execution_count": null,
   "metadata": {},
   "outputs": [],
   "source": []
  }
 ],
 "metadata": {
  "kernelspec": {
   "display_name": "tf20",
   "language": "python",
   "name": "tf20"
  },
  "language_info": {
   "codemirror_mode": {
    "name": "ipython",
    "version": 3
   },
   "file_extension": ".py",
   "mimetype": "text/x-python",
   "name": "python",
   "nbconvert_exporter": "python",
   "pygments_lexer": "ipython3",
   "version": "3.5.6"
  }
 },
 "nbformat": 4,
 "nbformat_minor": 2
}
